{
 "cells": [
  {
   "cell_type": "code",
   "execution_count": 1,
   "id": "12feb0f6",
   "metadata": {},
   "outputs": [],
   "source": [
    "#Import the random module\n",
    "import random"
   ]
  },
  {
   "cell_type": "code",
   "execution_count": 2,
   "id": "b1990bb7",
   "metadata": {},
   "outputs": [
    {
     "data": {
      "text/plain": [
       "-12"
      ]
     },
     "execution_count": 2,
     "metadata": {},
     "output_type": "execute_result"
    }
   ],
   "source": [
    "random.randint(-90,90)"
   ]
  },
  {
   "cell_type": "code",
   "execution_count": 3,
   "id": "9b4d66d7",
   "metadata": {},
   "outputs": [
    {
     "data": {
      "text/plain": [
       "0.6311487723621133"
      ]
     },
     "execution_count": 3,
     "metadata": {},
     "output_type": "execute_result"
    }
   ],
   "source": [
    "random.random()"
   ]
  },
  {
   "cell_type": "code",
   "execution_count": 4,
   "id": "c6e543f9",
   "metadata": {},
   "outputs": [
    {
     "data": {
      "text/plain": [
       "26.767635714201816"
      ]
     },
     "execution_count": 4,
     "metadata": {},
     "output_type": "execute_result"
    }
   ],
   "source": [
    "random_number = random.randint(-90,89) + random.random()\n",
    "random_number"
   ]
  },
  {
   "cell_type": "code",
   "execution_count": 6,
   "id": "0ddfe373",
   "metadata": {},
   "outputs": [
    {
     "data": {
      "text/plain": [
       "[-80.21526961796451,\n",
       " 44.67925181200328,\n",
       " 4.486325147375865,\n",
       " -3.1592699711029866,\n",
       " -0.7460441592865433,\n",
       " 88.94501623029852,\n",
       " -43.098640139664916,\n",
       " 87.07716271686922,\n",
       " 55.51597767128302,\n",
       " -38.57369154574779]"
      ]
     },
     "execution_count": 6,
     "metadata": {},
     "output_type": "execute_result"
    }
   ],
   "source": [
    "x = 1\n",
    "latitudes = []\n",
    "while x < 11:\n",
    "    random_lat = random.randint(-90,89) + random.random()\n",
    "    latitudes.append(random_lat)\n",
    "    \n",
    "    x += 1\n",
    "    \n",
    "latitudes"
   ]
  },
  {
   "cell_type": "code",
   "execution_count": 8,
   "id": "b7528bcc",
   "metadata": {},
   "outputs": [
    {
     "data": {
      "text/plain": [
       "-36"
      ]
     },
     "execution_count": 8,
     "metadata": {},
     "output_type": "execute_result"
    }
   ],
   "source": [
    "random.randrange(-90,90, step=3)"
   ]
  },
  {
   "cell_type": "code",
   "execution_count": 9,
   "id": "59071a09",
   "metadata": {},
   "outputs": [
    {
     "data": {
      "text/plain": [
       "-56.553693419216934"
      ]
     },
     "execution_count": 9,
     "metadata": {},
     "output_type": "execute_result"
    }
   ],
   "source": [
    "random.uniform(-90,90)"
   ]
  },
  {
   "cell_type": "code",
   "execution_count": 10,
   "id": "bde54b94",
   "metadata": {},
   "outputs": [],
   "source": [
    "# Import the NumPy module.\n",
    "\n",
    "import numpy as np"
   ]
  },
  {
   "cell_type": "code",
   "execution_count": 11,
   "id": "576fbfa4",
   "metadata": {},
   "outputs": [
    {
     "data": {
      "text/plain": [
       "-1.209802177301924"
      ]
     },
     "execution_count": 11,
     "metadata": {},
     "output_type": "execute_result"
    }
   ],
   "source": [
    "np.random.uniform(-90.000,90.000)"
   ]
  },
  {
   "cell_type": "code",
   "execution_count": 12,
   "id": "a7376b81",
   "metadata": {},
   "outputs": [
    {
     "data": {
      "text/plain": [
       "array([-66.92871966,  76.3208602 ,  80.48098716,  84.10940807,\n",
       "        10.73749566,  -5.71155485, -38.00759306,   5.73749751,\n",
       "       -19.95303156, -21.25002008, -84.40158323,  26.28265699,\n",
       "       -74.02031859,  79.95325531, -49.47495234, -48.31184452,\n",
       "       -24.652844  ,  84.3472357 , -78.69715976,  79.91509528,\n",
       "       -18.26712359, -44.67705852,  64.10606862,  30.91627094,\n",
       "       -67.04776634, -75.58531966,  50.58412209,  57.60360263,\n",
       "       -83.21166308,  -6.12293249, -64.78021202,  21.53319813,\n",
       "        56.59582875, -35.09525908,  53.18828104,  50.52693524,\n",
       "        48.33239469,  70.21990566,  60.48789854,  57.05363438,\n",
       "       -31.27211369,  38.9316053 , -24.26389905,  29.57267397,\n",
       "       -61.00593838,  68.34666455, -75.73501886,  13.29816526,\n",
       "       -14.78059634, -42.24831601])"
      ]
     },
     "execution_count": 12,
     "metadata": {},
     "output_type": "execute_result"
    }
   ],
   "source": [
    "np.random.uniform(low=-90,high=90,size=50)"
   ]
  },
  {
   "cell_type": "code",
   "execution_count": 20,
   "id": "680d3975",
   "metadata": {},
   "outputs": [],
   "source": [
    "#Import timeit.\n",
    "\n",
    "import timeit"
   ]
  },
  {
   "cell_type": "code",
   "execution_count": 21,
   "id": "24650f65",
   "metadata": {},
   "outputs": [
    {
     "name": "stdout",
     "output_type": "stream",
     "text": [
      "12 µs ± 4.54 ns per loop (mean ± std. dev. of 7 runs, 100,000 loops each)\n"
     ]
    }
   ],
   "source": [
    "%timeit np.random.uniform(-90.000,90.000,size=1500)"
   ]
  },
  {
   "cell_type": "code",
   "execution_count": 31,
   "id": "f412fe23",
   "metadata": {},
   "outputs": [
    {
     "name": "stdout",
     "output_type": "stream",
     "text": [
      "1.12 ms ± 2.73 µs per loop (mean ± std. dev. of 7 runs, 1,000 loops each)\n"
     ]
    }
   ],
   "source": [
    "def latitudes(size):\n",
    "    latitudes = []\n",
    "    x = 0\n",
    "    for x in range(1,size):\n",
    "        random_lat = random.randint(-90,90) + random.random()\n",
    "        latitudes.append(random_lat)\n",
    "        \n",
    "        x +=1\n",
    "        \n",
    "    return latitudes\n",
    "\n",
    "#Call the function with 1500.\n",
    "\n",
    "%timeit latitudes(1500)"
   ]
  },
  {
   "cell_type": "code",
   "execution_count": null,
   "id": "6ecd9682",
   "metadata": {},
   "outputs": [],
   "source": []
  }
 ],
 "metadata": {
  "kernelspec": {
   "display_name": "PythonData",
   "language": "python",
   "name": "pythondata"
  },
  "language_info": {
   "codemirror_mode": {
    "name": "ipython",
    "version": 3
   },
   "file_extension": ".py",
   "mimetype": "text/x-python",
   "name": "python",
   "nbconvert_exporter": "python",
   "pygments_lexer": "ipython3",
   "version": "3.9.12"
  }
 },
 "nbformat": 4,
 "nbformat_minor": 5
}
