{
 "cells": [
  {
   "cell_type": "code",
   "execution_count": 2,
   "id": "804fd17a",
   "metadata": {},
   "outputs": [],
   "source": [
    "#Import dependencies\n",
    "\n",
    "import pandas as pd\n",
    "import matplotlib as plt\n",
    "import numpy as np"
   ]
  },
  {
   "cell_type": "code",
   "execution_count": 3,
   "id": "ad8f62c8",
   "metadata": {},
   "outputs": [
    {
     "data": {
      "text/plain": [
       "<zip at 0x7ff379c6f740>"
      ]
     },
     "execution_count": 3,
     "metadata": {},
     "output_type": "execute_result"
    }
   ],
   "source": [
    "#Create a set of random latitude and longitude combinations.\n",
    "\n",
    "lats = np.random.uniform(low=-90.000,high=90.000, size=1500)\n",
    "lngs = np.random.uniform(low=-180.000,high=180.000, size=1500)\n",
    "\n",
    "lat_lngs = zip(lats,lngs)\n",
    "\n",
    "lat_lngs"
   ]
  },
  {
   "cell_type": "code",
   "execution_count": 4,
   "id": "78443271",
   "metadata": {},
   "outputs": [],
   "source": [
    "# # Create a practice set of random latitude and longitude combinations.\n",
    "# lats = [25.12903645, 25.92017388, 26.62509167, -59.98969384, 37.30571269]\n",
    "# lngs = [-67.59741259, 11.09532135, 74.84233102, -76.89176677, -61.13376282]\n",
    "# lat_lngs = zip(lats, lngs)"
   ]
  },
  {
   "cell_type": "code",
   "execution_count": 5,
   "id": "9406f442",
   "metadata": {},
   "outputs": [],
   "source": [
    "#Add the latitudes and longitudes to a list.\n",
    "\n",
    "coordinates = list(lat_lngs)"
   ]
  },
  {
   "cell_type": "code",
   "execution_count": 7,
   "id": "218687d6",
   "metadata": {},
   "outputs": [],
   "source": [
    "#Use the print() function to display the latitude and longitude combinations. \n",
    "\n",
    "# for coordinate in coordinates:\n",
    "#     print(coordinate[0], coordinate[1])"
   ]
  },
  {
   "cell_type": "code",
   "execution_count": 8,
   "id": "9fbdfca3",
   "metadata": {},
   "outputs": [
    {
     "data": {
      "text/plain": [
       "632"
      ]
     },
     "execution_count": 8,
     "metadata": {},
     "output_type": "execute_result"
    }
   ],
   "source": [
    "from citipy import citipy\n",
    "\n",
    "#Create a list for holding the cities.\n",
    "\n",
    "cities = []\n",
    "\n",
    "#Identify the nearest city for each latitude and longitude combination. \n",
    "\n",
    "for coordinate in coordinates: \n",
    "    city = citipy.nearest_city(coordinate[0],coordinate[1]).city_name\n",
    "    \n",
    "    #If the city is unique, then we will add it to the cities list. \n",
    "    \n",
    "    if city not in cities:\n",
    "        cities.append(city)\n",
    "        \n",
    "#Print rthe city count to confirm sufficient count.\n",
    "\n",
    "len(cities)"
   ]
  },
  {
   "cell_type": "code",
   "execution_count": null,
   "id": "2ca0c70c",
   "metadata": {},
   "outputs": [],
   "source": []
  }
 ],
 "metadata": {
  "kernelspec": {
   "display_name": "PythonData",
   "language": "python",
   "name": "pythondata"
  },
  "language_info": {
   "codemirror_mode": {
    "name": "ipython",
    "version": 3
   },
   "file_extension": ".py",
   "mimetype": "text/x-python",
   "name": "python",
   "nbconvert_exporter": "python",
   "pygments_lexer": "ipython3",
   "version": "3.9.12"
  }
 },
 "nbformat": 4,
 "nbformat_minor": 5
}
